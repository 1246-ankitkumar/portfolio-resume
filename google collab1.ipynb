{
  "nbformat": 4,
  "nbformat_minor": 0,
  "metadata": {
    "colab": {
      "provenance": [],
      "authorship_tag": "ABX9TyPBH4fmKorTbJFijSvwbx99",
      "include_colab_link": true
    },
    "kernelspec": {
      "name": "python3",
      "display_name": "Python 3"
    },
    "language_info": {
      "name": "python"
    }
  },
  "cells": [
    {
      "cell_type": "markdown",
      "metadata": {
        "id": "view-in-github",
        "colab_type": "text"
      },
      "source": [
        "<a href=\"https://colab.research.google.com/github/1246-ankitkumar/portfolio-resume/blob/main/google%20collab1.ipynb\" target=\"_parent\"><img src=\"https://colab.research.google.com/assets/colab-badge.svg\" alt=\"Open In Colab\"/></a>"
      ]
    },
    {
      "cell_type": "code",
      "execution_count": 5,
      "metadata": {
        "colab": {
          "base_uri": "https://localhost:8080/"
        },
        "id": "dehTpf94Z4YU",
        "outputId": "5e77df0d-2832-4da3-f7fe-2527862d70f0"
      },
      "outputs": [
        {
          "output_type": "stream",
          "name": "stdout",
          "text": [
            "item1: 50\n",
            "item2: 50\n",
            "item3: 50\n",
            "totalcost+discount:  165.0\n"
          ]
        }
      ],
      "source": [
        "item1=int(input(\"item1: \"))\n",
        "item2=int(input(\"item2: \"))\n",
        "item3=int(input(\"item3: \"))\n",
        "total=item1+item2+item3\n",
        "if total>50:\n",
        "  d=total*0.1\n",
        "  f=d+total\n",
        "  print(\"totalcost+discount: \",f)\n",
        "else:\n",
        "  print(\"totalcost: \",total)\n",
        "\n"
      ]
    }
  ]
}